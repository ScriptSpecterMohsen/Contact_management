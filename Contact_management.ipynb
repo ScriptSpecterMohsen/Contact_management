{
 "cells": [
  {
   "metadata": {},
   "cell_type": "code",
   "source": [
    "import json\n",
    "\n",
    "\n",
    "class contactmanager:\n",
    "    def __init__(self, path=\"-\"):\n",
    "        self.contact_list = []\n",
    "        \n",
    "        if path != \"-\":\n",
    "            print(\"loading previous contacts...\")\n",
    "            with open(path, \"r\") as f:\n",
    "                data = f.read()\n",
    "                self.contact_list = json.loads(data)\n",
    "            print(f\"LOADED...\")\n",
    "            \n",
    "    def add(self, name, number):\n",
    "        self.contact_list.append({\n",
    "            'name': name,\n",
    "            'number': number\n",
    "        })\n",
    "        \n",
    "        \n",
    "        \n",
    "    def search(self, name):\n",
    "        result = []\n",
    "        for item in self.contact_list:\n",
    "            if name.lower() in item[\"name\"].lower():\n",
    "                result.append(item)\n",
    "                \n",
    "        print(result)\n",
    "    \n",
    "    def backup(self):\n",
    "        with open(\"./contact_list.json\", \"w\")as f:\n",
    "            f.write(json.dumps(self.contact_list))\n",
    "        \n",
    "        \n",
    "    def print(self):\n",
    "        print(f\"your contact are: {self.contact_list}\")"
   ],
   "id": "4392b6f6f7fcfb7f",
   "outputs": [],
   "execution_count": null
  },
  {
   "metadata": {},
   "cell_type": "code",
   "source": [
    "my_contacts = contactmanager(path=\"./contact_list.json\")\n",
    "my_contacts.print()"
   ],
   "id": "64ca92e3bd18afff",
   "outputs": [],
   "execution_count": null
  },
  {
   "metadata": {},
   "cell_type": "code",
   "source": [
    "my_contacts.add(\"mohsen\", \"00000\")\n",
    "my_contacts.print()"
   ],
   "id": "a735662e971e8369",
   "outputs": [],
   "execution_count": null
  },
  {
   "metadata": {},
   "cell_type": "code",
   "source": [
    "my_contacts.add(\"milad\", \"11111\")\n",
    "my_contacts.print()"
   ],
   "id": "a788ecd03f41e91a",
   "outputs": [],
   "execution_count": null
  },
  {
   "metadata": {},
   "cell_type": "code",
   "source": "my_contacts.search(\"mohammad\")",
   "id": "9907381de259a481",
   "outputs": [],
   "execution_count": null
  },
  {
   "metadata": {},
   "cell_type": "code",
   "source": "my_contacts.backup()",
   "id": "74dd64529a3c8894",
   "outputs": [],
   "execution_count": null
  },
  {
   "metadata": {},
   "cell_type": "code",
   "source": [
    "my_contacts.add(\"mohammad\", \"22222\")\n",
    "my_contacts.print()"
   ],
   "id": "cbb1da61a26ac853",
   "outputs": [],
   "execution_count": null
  },
  {
   "metadata": {},
   "cell_type": "code",
   "source": "my_contacts.backup()\n",
   "id": "6a76e37480c785a7",
   "outputs": [],
   "execution_count": null
  },
  {
   "metadata": {},
   "cell_type": "code",
   "source": "",
   "id": "10301f8b4163fefa",
   "outputs": [],
   "execution_count": null
  }
 ],
 "metadata": {
  "kernelspec": {
   "display_name": "Python 3",
   "language": "python",
   "name": "python3"
  },
  "language_info": {
   "codemirror_mode": {
    "name": "ipython",
    "version": 2
   },
   "file_extension": ".py",
   "mimetype": "text/x-python",
   "name": "python",
   "nbconvert_exporter": "python",
   "pygments_lexer": "ipython2",
   "version": "2.7.6"
  }
 },
 "nbformat": 4,
 "nbformat_minor": 5
}
